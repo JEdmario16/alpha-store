{
 "cells": [
  {
   "cell_type": "code",
   "execution_count": 34,
   "metadata": {},
   "outputs": [],
   "source": [
    "import requests\n",
    "from pprint import pprint"
   ]
  },
  {
   "attachments": {},
   "cell_type": "markdown",
   "metadata": {},
   "source": [
    "# Alpha Store\n",
    "<p> Como a aplicação roda apenas á nível de API, resolvi criar este notebook para que se possa testar as rotas.</p>\n",
    "<p>Obs: Tudo que é criado aqui é persistido no banco de dados principal da aplicação </p>\n",
    "\n",
    "### Register New User\n",
    "\n",
    "```python\n",
    "api_url = \"/apis/v1/user/register/\"\n",
    "```\n",
    "\n"
   ]
  },
  {
   "cell_type": "code",
   "execution_count": 35,
   "metadata": {},
   "outputs": [
    {
     "name": "stdout",
     "output_type": "stream",
     "text": [
      "{'message': 'User created successfully', 'status_code': 201}\n",
      "{'message': 'Invalid input data: email: Email already exists', 'status_code': 400}\n"
     ]
    }
   ],
   "source": [
    "## Registr um novo usuário\n",
    "\n",
    "user_data = {\n",
    "    \"username\": \"Knuckles2\",\n",
    "    \"email\": \"knuckles2@sonic.com\",\n",
    "    \"password\": \"Supersecre@valid1\"\n",
    "}\n",
    "\n",
    "api_url = \"http://127.0.0.1:5000/apis/v1/user/register\"\n",
    "\n",
    "response = requests.post(api_url, json=user_data)\n",
    "\n",
    "pprint(response.json())\n",
    "\n",
    "## Ao tentar registrar um usuário com o mesmo email ou senha, a API irá retornar um erro\n",
    "\n",
    "user_data = {\n",
    "    \"username\": \"Knuckles2\",\n",
    "    \"email\": \"knuckles2@sonic.com\",\n",
    "    \"password\": \"Supersecre@valid1\"\n",
    "}\n",
    "\n",
    "response = requests.post(api_url, json=user_data)\n",
    "\n",
    "print(response.json())\n",
    "\n",
    "##Ao criar um usuário, muitas outras validações são feitas pelo lado do servidor, como checagem da senha e username.\n",
    "##Apenas modificando o json acima, você poderá ver algumas delas"
   ]
  },
  {
   "attachments": {},
   "cell_type": "markdown",
   "metadata": {},
   "source": [
    "### Login de Usuário e User Features\n",
    "\n",
    "Para logar com um usário, esta aplicação utiliza o plugin ``Flask-Login``. Além de adicionar alguns métodos adicionais ao objeto User(Note que User também herda de UserMixin),\n",
    "este plugin utiliza dados da seção para verificar se há algum usuário logado. <br>\n",
    "Com isto, o endpoint das rotas de authenticação tem acesso ao objeto current_user, que é um wrapper do modelo de Usuários. <br>\n",
    "O Decorador ``@login_required`` irá basicamente verificar se ``current_user.is_authenticated`` é True, para verificar se o usuário está logado na seção. <br>\n",
    "Quando a função login_user é chamada, ela salva o estado de login do usuário na seção atual.\n",
    "Por outro lado, ``logout_user`` remove o usuário da seção, o que torna current_user.is_authenticated False.\n",
    "Como os dados da seção são READ-ONLY, nenhum dado pessoal do usuário é salvo na seção, apenas um status para verificar se alguém logado!\n",
    "\n",
    "As células abaixo mostram uma pipeline para o login de usuário:\n",
    "\n",
    "\n",
    "```python\n",
    "api_url = \"apis/v1/user/login/\n",
    "```"
   ]
  },
  {
   "cell_type": "code",
   "execution_count": 36,
   "metadata": {},
   "outputs": [
    {
     "name": "stdout",
     "output_type": "stream",
     "text": [
      "{'message': 'Logged in successfully', 'status_code': 200}\n"
     ]
    }
   ],
   "source": [
    "## Faz login com o usuário criado anteriormente\n",
    "## Desta fez, precisamos do objeto Session para manter o usuário logado\n",
    "\n",
    "session = requests.Session()\n",
    "\n",
    "user_data = {\n",
    "    \"email\": \"knuckles2@sonic.com\",\n",
    "    \"password\": \"Supersecre@valid1\"\n",
    "}\n",
    "\n",
    "api_url = \"http://127.0.0.1:5000/apis/v1/user/login\"\n",
    "\n",
    "response = session.post(api_url, json=user_data)\n",
    "\n",
    "pprint(response.json())\n",
    "\n",
    "\n",
    "## Novamente, muitas outras verificações são feitas pelo servidor. As mensagens de erros\n",
    "## são bem claras e fáceis de entender. Tente mudar o json acima para ver algumas delas\n"
   ]
  },
  {
   "cell_type": "code",
   "execution_count": 37,
   "metadata": {},
   "outputs": [
    {
     "name": "stdout",
     "output_type": "stream",
     "text": [
      "Tentativa com o objeto Session\n",
      "{'cart_id': 19,\n",
      " 'message': 'Cart retrieved successfully',\n",
      " 'products': [],\n",
      " 'shipping_cost': 0,\n",
      " 'status_code': 200,\n",
      " 'total_items': 0,\n",
      " 'total_price': 0}\n",
      "\n",
      "\n",
      "\n",
      " Tentativa sem objeto Session\n",
      "'{\\n  \"message\": \"Unauthorized\",\\n  \"status_code\": 401\\n}\\n'\n"
     ]
    }
   ],
   "source": [
    "\n",
    "## Abaixo, iremos tentar acessar uma rota que requer autenticação\n",
    "## Irei fazer isso de duas formas: utilizando o objeto Session e sem ele\n",
    "\n",
    "api_url = \"http://127.0.0.1:5000/apis/v1/user/cart\"\n",
    "\n",
    "response = session.get(api_url)\n",
    "\n",
    "print(\"Tentativa com o objeto Session\")\n",
    "pprint(response.json())\n",
    "\n",
    "response = requests.get(api_url)\n",
    "print(\"\\n\\n\\n Tentativa sem objeto Session\")\n",
    "pprint(response.text)\n",
    "\n"
   ]
  },
  {
   "cell_type": "code",
   "execution_count": 38,
   "metadata": {},
   "outputs": [
    {
     "name": "stdout",
     "output_type": "stream",
     "text": [
      "{'added_at': 'Sun, 12 Feb 2023 02:31:20 GMT',\n",
      " 'category': 'Shooter',\n",
      " 'description': 'Quaerat porro modi sit Sed labore amet dolore etincidunt non '\n",
      "                'est ipsum Dolore etincidunt est eius consectetur sed ipsum ut',\n",
      " 'id': 13,\n",
      " 'image_url': 'call-of-duty-infinite-warfare.png',\n",
      " 'name': 'Call Of Duty Infinite Warfare',\n",
      " 'price': 49.99,\n",
      " 'release_date': 'Fri, 04 Nov 2016 02:00:00 GMT',\n",
      " 'score': 80.0}\n"
     ]
    }
   ],
   "source": [
    "## Como podemos ver, a primeira tentativa de acesso à rota foi bem sucedida, enquanto a segunda falhou\n",
    "## Vamos deixar o usuário um pouco mais feliz, adicionando alguns produtos ao carrinho dele\n",
    "## Antes de fazer isso, precisamos saber quais produtos estão disponíveis\n",
    "## Por isto, abaixo irei listar todos os produtos disponíveis\n",
    "## A API de catalog possui algumas funcionalidades que irei mostrar á diante. \n",
    "\n",
    "api_url = \"http://127.0.0.1:5000/apis/v1/catalog/get_products\"\n",
    "\n",
    "response = session.get(api_url)\n",
    "\n",
    "## Aqui, irei capturar apenas o primeiro produto. Novamente, irei detalhar essa rota depois.\n",
    "\n",
    "first_product = response.json()[\"products\"][0]\n",
    "pprint(first_product)\n"
   ]
  },
  {
   "cell_type": "code",
   "execution_count": 39,
   "metadata": {},
   "outputs": [
    {
     "name": "stdout",
     "output_type": "stream",
     "text": [
      "{'message': 'Product added to cart successfully', 'status_code': 200}\n"
     ]
    }
   ],
   "source": [
    "\n",
    "## Agora, irei adicionar o produto ao carrinho do usuário\n",
    "## Para isso, irei utilizar a rota /apis/v1/user/add_to_cart\n",
    "## Esta rota recebe um json com o id do produto e, caso exista, adiciona ao carrinho do usuário\n",
    "## Neste projeto, supus que os jogos são virtuais, então não há nada sobre stock, endereço de entrega, etc.\n",
    "\n",
    "## Para esta rota, decidi que o id do produto deverá ser passado como parâmetro na url.\n",
    "## Assim, para adicionar o produto de id = 1 deve-se acessar /apis/v1/user/cart/add-to-cart/1\n",
    "\n",
    "first_product_id = first_product[\"id\"]\n",
    "api_url = f\"http://127.0.0.1:5000/apis/v1/user/cart/add-to-cart/{first_product_id}\"\n",
    "\n",
    "response = session.post(api_url)\n",
    "\n",
    "pprint(response.json())\n"
   ]
  },
  {
   "cell_type": "code",
   "execution_count": 40,
   "metadata": {},
   "outputs": [
    {
     "name": "stdout",
     "output_type": "stream",
     "text": [
      "{'cart_id': 19,\n",
      " 'message': 'Cart retrieved successfully',\n",
      " 'products': [{'added_at': 'Sun, 12 Feb 2023 02:31:20 GMT',\n",
      "               'category': 'Shooter',\n",
      "               'description': 'Quaerat porro modi sit Sed labore amet dolore '\n",
      "                              'etincidunt non est ipsum Dolore etincidunt est '\n",
      "                              'eius consectetur sed ipsum ut',\n",
      "               'id': 13,\n",
      "               'image_url': 'call-of-duty-infinite-warfare.png',\n",
      "               'name': 'Call Of Duty Infinite Warfare',\n",
      "               'price': 49.99,\n",
      "               'release_date': 'Fri, 04 Nov 2016 02:00:00 GMT',\n",
      "               'score': 80.0}],\n",
      " 'shipping_cost': 10,\n",
      " 'status_code': 200,\n",
      " 'total_items': 1,\n",
      " 'total_price': 59.99}\n"
     ]
    }
   ],
   "source": [
    "## Vamos novamente acessar a api de listagem de itens no carrinho:\n",
    "\n",
    "api_url = \"http://127.0.0.1:5000/apis/v1/user/cart\"\n",
    "\n",
    "response = session.get(api_url)\n",
    "\n",
    "pprint(response.json())"
   ]
  },
  {
   "cell_type": "code",
   "execution_count": 41,
   "metadata": {},
   "outputs": [
    {
     "name": "stdout",
     "output_type": "stream",
     "text": [
      "{'message': 'Checkout successfully', 'status_code': 200}\n"
     ]
    }
   ],
   "source": [
    "## Agora, vamos fazer o checkout!\n",
    "\n",
    "api_url = \"http://127.0.0.1:5000/apis/v1/user/cart/checkout\"\n",
    "\n",
    "response = session.post(api_url)\n",
    "\n",
    "pprint(response.json())\n"
   ]
  },
  {
   "cell_type": "code",
   "execution_count": 42,
   "metadata": {},
   "outputs": [
    {
     "name": "stdout",
     "output_type": "stream",
     "text": [
      "{'message': 'Orders retrieved successfully',\n",
      " 'orders': [{'added_at': 'Sun, 12 Feb 2023 20:17:39 GMT',\n",
      "             'id': 14,\n",
      "             'products': [{'added_at': 'Sun, 12 Feb 2023 02:31:20 GMT',\n",
      "                           'category': 'Shooter',\n",
      "                           'description': 'Quaerat porro modi sit Sed labore '\n",
      "                                          'amet dolore etincidunt non est '\n",
      "                                          'ipsum Dolore etincidunt est eius '\n",
      "                                          'consectetur sed ipsum ut',\n",
      "                           'id': 13,\n",
      "                           'image_url': 'call-of-duty-infinite-warfare.png',\n",
      "                           'name': 'Call Of Duty Infinite Warfare',\n",
      "                           'price': 49.99,\n",
      "                           'release_date': 'Fri, 04 Nov 2016 02:00:00 GMT',\n",
      "                           'score': 80.0}],\n",
      "             'shipping_cost': 10.0,\n",
      "             'total_price': 49.99,\n",
      "             'user_id': 6}],\n",
      " 'status_code': 200}\n"
     ]
    }
   ],
   "source": [
    "## Também podemos ver o hitórico de pedidos na seguinte rota: \n",
    "\n",
    "api_url = \"http://127.0.0.1:5000/apis/v1/user/orders\"\n",
    "\n",
    "response = session.get(api_url)\n",
    "\n",
    "pprint(response.json())"
   ]
  },
  {
   "cell_type": "code",
   "execution_count": 43,
   "metadata": {},
   "outputs": [
    {
     "name": "stdout",
     "output_type": "stream",
     "text": [
      "{'message': 'Logged out successfully', 'status_code': 200}\n"
     ]
    }
   ],
   "source": [
    "## Por último, vamos fazer logout\n",
    "\n",
    "response = session.post(\"http://127.0.0.1:5000/apis/v1/user/logout\")\n",
    "\n",
    "pprint(response.json())"
   ]
  },
  {
   "attachments": {},
   "cell_type": "markdown",
   "metadata": {},
   "source": [
    "### A interface Catalog\n",
    "<p> Nesta aplicação foi implementado também endpoints para capturar itens no catalogo. Estas rotas são públicas e permitem realizar alguns filtros na busca por dados </p>"
   ]
  },
  {
   "cell_type": "code",
   "execution_count": 44,
   "metadata": {},
   "outputs": [
    {
     "name": "stdout",
     "output_type": "stream",
     "text": [
      "{'message': 'Product found',\n",
      " 'product': {'added_at': 'Sun, 12 Feb 2023 02:31:20 GMT',\n",
      "             'category': 'Action',\n",
      "             'description': 'Tempora amet quaerat dolorem magnam Quaerat '\n",
      "                            'dolore ut quisquam magnam tempora Labore quiquia '\n",
      "                            'ipsum dolore Magnam amet tempora etincidunt porro',\n",
      "             'id': 38,\n",
      "             'image_url': 'sekiro-shadows-die-twice.png',\n",
      "             'name': 'Sekiro: Shadows Die Twice',\n",
      "             'price': 59.99,\n",
      "             'release_date': 'Fri, 22 Mar 2019 03:00:00 GMT',\n",
      "             'score': 450.0},\n",
      " 'status_code': 200}\n"
     ]
    }
   ],
   "source": [
    "### Buscando um determinado produto por nome.\n",
    "### Nesta rota, o nome do produto deve ser passado na url.\n",
    "### Assim, caso queira o produto Super Mario World, deve-se acesstar /apis/v1/catalog/get-products-by-name/Super Mario World\n",
    "\n",
    "game_name = \"Sekiro: Shadows Die Twice\"\n",
    "api_url = f\"http://127.0.0.1:5000/apis/v1/catalog/get_products_by_name/{game_name}\"\n",
    "\n",
    "response = requests.get(api_url)\n",
    "\n",
    "pprint(response.json())"
   ]
  },
  {
   "cell_type": "code",
   "execution_count": 45,
   "metadata": {},
   "outputs": [
    {
     "name": "stdout",
     "output_type": "stream",
     "text": [
      "{'message': 'Product found',\n",
      " 'product': {'added_at': 'Sun, 12 Feb 2023 02:31:20 GMT',\n",
      "             'category': 'Shooter',\n",
      "             'description': 'Labore magnam velit modi ut tempora dolor tempora '\n",
      "                            'Velit modi modi dolore dolor labore etincidunt '\n",
      "                            'velit Quaerat velit sed neque',\n",
      "             'id': 22,\n",
      "             'image_url': 'overwatch.png',\n",
      "             'name': 'Overwatch',\n",
      "             'price': 55.99,\n",
      "             'release_date': 'Mon, 23 May 2016 03:00:00 GMT',\n",
      "             'score': 130.0},\n",
      " 'status_code': 200}\n"
     ]
    }
   ],
   "source": [
    "### De forma similar, podemos também obter um determinado produto pelo seu id:\n",
    "\n",
    "product_id = 22\n",
    "api_url = f\"http://127.0.0.1:5000/apis/v1/catalog/get_products_by_id/{product_id}\"\n",
    "\n",
    "response = requests.get(api_url)\n",
    "\n",
    "pprint(response.json())"
   ]
  },
  {
   "cell_type": "code",
   "execution_count": 46,
   "metadata": {},
   "outputs": [
    {
     "name": "stdout",
     "output_type": "stream",
     "text": [
      "{'message': 'Products found',\n",
      " 'products': [{'added_at': 'Sun, 12 Feb 2023 02:31:20 GMT',\n",
      "               'category': 'Shooter',\n",
      "               'description': 'Quaerat porro modi sit Sed labore amet dolore '\n",
      "                              'etincidunt non est ipsum Dolore etincidunt est '\n",
      "                              'eius consectetur sed ipsum ut',\n",
      "               'id': 13,\n",
      "               'image_url': 'call-of-duty-infinite-warfare.png',\n",
      "               'name': 'Call Of Duty Infinite Warfare',\n",
      "               'price': 49.99,\n",
      "               'release_date': 'Fri, 04 Nov 2016 02:00:00 GMT',\n",
      "               'score': 80.0},\n",
      "              {'added_at': 'Sun, 12 Feb 2023 02:31:20 GMT',\n",
      "               'category': 'Fighting',\n",
      "               'description': 'Velit est quiquia quaerat Quaerat ipsum ut non '\n",
      "                              'modi dolorem neque non Neque adipisci labore '\n",
      "                              'quaerat neque Porro quisquam sit',\n",
      "               'id': 16,\n",
      "               'image_url': 'mortal-kombat-xl.png',\n",
      "               'name': 'Mortal Kombat XL',\n",
      "               'price': 69.99,\n",
      "               'release_date': 'Tue, 01 Mar 2016 02:00:00 GMT',\n",
      "               'score': 150.0},\n",
      "              {'added_at': 'Sun, 12 Feb 2023 02:31:20 GMT',\n",
      "               'category': 'RPG',\n",
      "               'description': 'Dolor amet dolore dolor quiquia adipisci ut ut '\n",
      "                              'Ut aliquam porro ipsum neque quaerat tempora '\n",
      "                              'Tempora aliquam sed sed non',\n",
      "               'id': 14,\n",
      "               'image_url': 'the-witcher-iii-wild-hunt.png',\n",
      "               'name': 'The Witcher III Wild Hunt',\n",
      "               'price': 119.5,\n",
      "               'release_date': 'Tue, 19 May 2015 03:00:00 GMT',\n",
      "               'score': 250.0},\n",
      "              {'added_at': 'Sun, 12 Feb 2023 02:31:20 GMT',\n",
      "               'category': 'Casual',\n",
      "               'description': 'Quiquia consectetur voluptatem aliquam dolorem '\n",
      "                              'modi Adipisci non etincidunt voluptatem ut '\n",
      "                              'quaerat numquam velit Quiquia velit quiquia '\n",
      "                              'labore porro quaerat',\n",
      "               'id': 12,\n",
      "               'image_url': 'super-mario-odyssey.png',\n",
      "               'name': 'Super Mario Odyssey',\n",
      "               'price': 197.88,\n",
      "               'release_date': 'Fri, 27 Oct 2017 03:00:00 GMT',\n",
      "               'score': 100.0},\n",
      "              {'added_at': 'Sun, 12 Feb 2023 02:31:20 GMT',\n",
      "               'category': 'Shooter',\n",
      "               'description': 'Dolor non non eius etincidunt magnam ipsum modi '\n",
      "                              'Sed aliquam non aliquam aliquam quiquia labore '\n",
      "                              'aliquam Ut adipisci non dolorem',\n",
      "               'id': 15,\n",
      "               'image_url': 'call-of-duty-wwii.png',\n",
      "               'name': 'Call Of Duty WWII',\n",
      "               'price': 249.99,\n",
      "               'release_date': 'Fri, 03 Nov 2017 02:00:00 GMT',\n",
      "               'score': 205.0}],\n",
      " 'status_code': 200}\n"
     ]
    }
   ],
   "source": [
    "### Para a listagem de produtos, temos a rota /apis/v1/catalog/get-products\n",
    "### Que aceita parâmetros de filtros e de sort para a busca.\n",
    "### Se nenhum parâmetro for passado, a rota irá retornar os 10 primeiros itens\n",
    "### Esta rota também contém uma quantidade máxima de produtos a serem buscados.\n",
    "\n",
    "\n",
    "api_url = f\"http://127.0.0.1:5000/apis/v1/catalog/get_products\"\n",
    "\n",
    "params = {\"start\": 0, \"limit\": 5, \"sort_by\": \"price\", \"sort_type\": \"asc\"}\n",
    "\n",
    "response = requests.get(api_url, params=params)\n",
    "\n",
    "pprint(response.json())"
   ]
  },
  {
   "attachments": {},
   "cell_type": "markdown",
   "metadata": {},
   "source": [
    "# Analytics Interface"
   ]
  },
  {
   "cell_type": "code",
   "execution_count": 47,
   "metadata": {},
   "outputs": [
    {
     "data": {
      "image/png": "[encoded data removed]",
      "text/plain": [
       "<PIL.PngImagePlugin.PngImageFile image mode=RGBA size=1000x1000>"
      ]
     },
     "execution_count": 47,
     "metadata": {},
     "output_type": "execute_result"
    }
   ],
   "source": [
    "### Por fim, esta aplicação também dispõe de uma aplicação simples que gera um report das vendas\n",
    "### O Report é muito básico, e o endpoint não tem autenticação, mesmo assim decidi incluí-lo aqui:\n",
    "\n",
    "api_url = \"http://127.0.0.1:5000/apis/v1/analytics/report\"\n",
    "\n",
    "response = requests.get(api_url)\n",
    "\n",
    "\n",
    "### Este endpoint irá retornar um código html contendo a imagem em base64. Ao abrir o link ``api_url`` em algum navegador, você poderá ver a imagem.\n",
    "### neste notebook, irei utilizar BytesIO e PIL para ler esta imagem\n",
    "\n",
    "### Primeiro, irei parsear a string de response.\n",
    "img_bytes_raw = response.text\n",
    "\n",
    "import re\n",
    "import base64\n",
    "import io\n",
    "from PIL import Image\n",
    "\n",
    "regex = re.compile(r'data:image\\/[a-zA-Z]+;base64,([a-zA-Z0-9+/]+={0,2})')\n",
    "base64_code = regex.search(img_bytes_raw)\n",
    "base64_code = base64_code.group(1)\n",
    "img_data = base64.b64decode(base64_code)\n",
    "\n",
    "img = Image.open(io.BytesIO(img_data))\n",
    "\n",
    "\n",
    "#img.show()\n",
    "img"
   ]
  },
  {
   "cell_type": "code",
   "execution_count": null,
   "metadata": {},
   "outputs": [],
   "source": []
  },
  {
   "cell_type": "code",
   "execution_count": null,
   "metadata": {},
   "outputs": [],
   "source": []
  }
 ],
 "metadata": {
  "kernelspec": {
   "display_name": "alpha-store-pD75RsSa-py3.10",
   "language": "python",
   "name": "python3"
  },
  "language_info": {
   "codemirror_mode": {
    "name": "ipython",
    "version": 3
   },
   "file_extension": ".py",
   "mimetype": "text/x-python",
   "name": "python",
   "nbconvert_exporter": "python",
   "pygments_lexer": "ipython3",
   "version": "3.10.9"
  },
  "orig_nbformat": 4,
  "vscode": {
   "interpreter": {
    "hash": "9c97f49b84e3ada680f69f074774b1b40471d6d32688e83f89d49b1b2f2c6b40"
   }
  }
 },
 "nbformat": 4,
 "nbformat_minor": 2
}
